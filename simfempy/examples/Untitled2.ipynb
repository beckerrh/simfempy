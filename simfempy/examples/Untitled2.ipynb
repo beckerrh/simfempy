{
 "cells": [
  {
   "cell_type": "code",
   "execution_count": 6,
   "id": "9e8e4e7c",
   "metadata": {},
   "outputs": [
    {
     "name": "stdout",
     "output_type": "stream",
     "text": [
      "1\n"
     ]
    }
   ],
   "source": [
    "from numpy import *\n",
    "\n",
    "def filtrage(e,G):\n",
    "    \"\"\"\n",
    "    entree : list de floats, float\n",
    "    sortie : tableau filtre\n",
    "    \"\"\"\n",
    "    s = [e[0]]\n",
    "    n = len(e)\n",
    "    for k in range(n-1):\n",
    "        s2 = ((1 - G)*s[k] + G*(e[k+1] + e[k])) / (1 + G)\n",
    "        s.append(s2)\n",
    "    return s\n",
    "\n",
    "def filtrage2(e,G):\n",
    "    \"\"\"\n",
    "    entree : array de floats, float\n",
    "    sortie : array filtre\n",
    "    \"\"\"\n",
    "    s = empty_like(e)\n",
    "    s[0] = e[0]\n",
    "    s[1:] = ((1 - G)*s[:-1] + G*(e[1:] + e[:-1])) / (1 + G)\n",
    "    return s\n",
    "\n",
    "\n",
    "\n",
    "\n",
    "def TFD(signal, Te):\n",
    "    \"\"\"\n",
    "    entree : list, float \n",
    "    sortie : list\n",
    "    \"\"\"\n",
    "    s = []\n",
    "    N = len(signal)\n",
    "    for k in range(N):\n",
    "        s2 = 0\n",
    "        for n in range(N):\n",
    "            s2 += signal[n]*exp(-2*pi*k*(n/N)*1j)\n",
    "        s.append(s2)\n",
    "    t = [abs(sv) for sv in s]\n",
    "    return s, t\n",
    "    \n",
    "        \n",
    "        \n",
    "l = [1, 'AB', 456, [1,3,5]]\n",
    "\n",
    "ll = [l2 for l2 in l]\n",
    "\n",
    "print(l.index('AB'))\n"
   ]
  },
  {
   "cell_type": "code",
   "execution_count": null,
   "id": "312b15d7",
   "metadata": {},
   "outputs": [],
   "source": []
  }
 ],
 "metadata": {
  "kernelspec": {
   "display_name": "Python 3 (ipykernel)",
   "language": "python",
   "name": "python3"
  },
  "language_info": {
   "codemirror_mode": {
    "name": "ipython",
    "version": 3
   },
   "file_extension": ".py",
   "mimetype": "text/x-python",
   "name": "python",
   "nbconvert_exporter": "python",
   "pygments_lexer": "ipython3",
   "version": "3.9.16"
  }
 },
 "nbformat": 4,
 "nbformat_minor": 5
}
