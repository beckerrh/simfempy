{
 "cells": [
  {
   "cell_type": "code",
   "execution_count": 12,
   "id": "7af1cf22",
   "metadata": {},
   "outputs": [
    {
     "data": {
      "text/plain": [
       "-47.911498"
      ]
     },
     "execution_count": 12,
     "metadata": {},
     "output_type": "execute_result"
    }
   ],
   "source": [
    "def toto():\n",
    "    chaine = 'GGPA'\n",
    "    cs = 0\n",
    "    for ch in chaine:\n",
    "        print('cs', cs, 'ord(ch)', ord(ch))\n",
    "        cs = cs^ord(ch)\n",
    "        print(cs)\n",
    "    print(cs)\n",
    "    csH = hex(cs)[2:]\n",
    "    print(csH)\n",
    "\n",
    "def convHoraire(chHoraire):\n",
    "    \"\"\"\n",
    "    entree : str, horaire format de la norme\n",
    "    sortie : int, horaire en secondes\n",
    "    \"\"\"\n",
    "    h = int(chHoraire[:2])\n",
    "    m = int(chHoraire[2:4])\n",
    "    s = int(chHoraire[4:6])\n",
    "    return 3600*h + 60*m + s\n",
    "    \n",
    "convHoraire('092828.00')\n",
    "\n",
    "def convAngle(chAngle, chCard):\n",
    "    \"\"\"\n",
    "    entree : deux str, latitude ou longitude\n",
    "    sortie : float, valeur de l'angle en °\n",
    "    \"\"\"\n",
    "    d = float(chAngle[:-8])\n",
    "    m = float(chAngle[-8:])\n",
    "    D = d + m/60\n",
    "    if chCard == 'S' or chCard == 'E':\n",
    "        D *= -1\n",
    "    return D\n",
    "\n",
    "c1, c2 = '4754.68988', 'S'\n",
    "convAngle(c1, c2)\n",
    "        "
   ]
  },
  {
   "cell_type": "code",
   "execution_count": null,
   "id": "264d923e",
   "metadata": {},
   "outputs": [],
   "source": []
  }
 ],
 "metadata": {
  "kernelspec": {
   "display_name": "Python 3 (ipykernel)",
   "language": "python",
   "name": "python3"
  },
  "language_info": {
   "codemirror_mode": {
    "name": "ipython",
    "version": 3
   },
   "file_extension": ".py",
   "mimetype": "text/x-python",
   "name": "python",
   "nbconvert_exporter": "python",
   "pygments_lexer": "ipython3",
   "version": "3.9.16"
  }
 },
 "nbformat": 4,
 "nbformat_minor": 5
}
