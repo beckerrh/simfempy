{
 "cells": [
  {
   "cell_type": "code",
   "execution_count": null,
   "id": "31c540ec",
   "metadata": {},
   "outputs": [],
   "source": [
    "from numpy import *\n",
    "from matplotlib.pyplot import *\n",
    "\n",
    "def indice_GPGGA(listeChaine):\n",
    "    \"\"\"\n",
    "    entree : liste de str\n",
    "    sortie : indice de '$GPGGA', sinon len(listeChaine)\n",
    "    \"\"\"\n",
    "    print(listeChaine)\n",
    "\n",
    "    n = len(listeChaine)\n",
    "    print(n)\n",
    "    i = 0\n",
    "    while i < n:\n",
    "        if listeChaine[i] == '$GPPGA':\n",
    "            return i\n",
    "        i += 1\n",
    "    return n\n",
    "\n",
    "\n",
    "def testPresence(trame):\n",
    "    \"\"\"\n",
    "    entree : liste de str\n",
    "    sortie : bool True si toutes les donnees sont presentes False sinon\n",
    "    \"\"\"\n",
    "    for t in trame:\n",
    "        if t == '':\n",
    "            return False\n",
    "    return True\n",
    "\n",
    "ord('A')\n"
   ]
  },
  {
   "cell_type": "code",
   "execution_count": null,
   "id": "b8471b8f",
   "metadata": {},
   "outputs": [],
   "source": []
  },
  {
   "cell_type": "code",
   "execution_count": null,
   "id": "c43baf4f",
   "metadata": {},
   "outputs": [],
   "source": []
  }
 ],
 "metadata": {
  "kernelspec": {
   "display_name": "Python 3 (ipykernel)",
   "language": "python",
   "name": "python3"
  },
  "language_info": {
   "codemirror_mode": {
    "name": "ipython",
    "version": 3
   },
   "file_extension": ".py",
   "mimetype": "text/x-python",
   "name": "python",
   "nbconvert_exporter": "python",
   "pygments_lexer": "ipython3",
   "version": "3.9.16"
  }
 },
 "nbformat": 4,
 "nbformat_minor": 5
}
